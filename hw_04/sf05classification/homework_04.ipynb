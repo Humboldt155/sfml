{
 "cells": [
  {
   "cell_type": "code",
   "execution_count": 2,
   "metadata": {},
   "outputs": [],
   "source": [
    "import pandas as pd"
   ]
  },
  {
   "cell_type": "code",
   "execution_count": 24,
   "metadata": {},
   "outputs": [],
   "source": [
    "df_ss = pd.read_csv('sample_submission.csv')\n",
    "df_train = pd.read_csv('train.csv')\n",
    "df_test = pd.read_csv('test.csv')"
   ]
  },
  {
   "cell_type": "code",
   "execution_count": 25,
   "metadata": {},
   "outputs": [
    {
     "name": "stdout",
     "output_type": "stream",
     "text": [
      "[0]\n",
      "<class 'pandas.core.frame.DataFrame'>\n",
      "RangeIndex: 24712 entries, 0 to 24711\n",
      "Data columns (total 22 columns):\n",
      "_id               24712 non-null object\n",
      "age               24712 non-null int64\n",
      "job               24712 non-null object\n",
      "marital           24712 non-null object\n",
      "education         24712 non-null object\n",
      "default           24712 non-null object\n",
      "housing           24712 non-null object\n",
      "loan              24712 non-null object\n",
      "contact           24712 non-null object\n",
      "month             24712 non-null object\n",
      "day_of_week       24712 non-null object\n",
      "duration          24712 non-null int64\n",
      "campaign          24712 non-null int64\n",
      "pdays             24712 non-null int64\n",
      "previous          24712 non-null int64\n",
      "poutcome          24712 non-null object\n",
      "emp.var.rate      24712 non-null float64\n",
      "cons.price.idx    24712 non-null float64\n",
      "cons.conf.idx     24712 non-null float64\n",
      "euribor3m         24712 non-null float64\n",
      "nr.employed       24712 non-null float64\n",
      "target            24712 non-null int64\n",
      "dtypes: float64(5), int64(6), object(11)\n",
      "memory usage: 4.1+ MB\n"
     ]
    }
   ],
   "source": [
    "print(df_ss['target'].unique())\n",
    "df_train.info()"
   ]
  },
  {
   "cell_type": "code",
   "execution_count": 5,
   "metadata": {},
   "outputs": [
    {
     "name": "stdout",
     "output_type": "stream",
     "text": [
      "[ True]\n"
     ]
    }
   ],
   "source": [
    "# Проверяем, совпадает ли порядок id адресов клиентов в тренировочной выборке и файле 'sample_submission'\n",
    "\n",
    "check = df_train['_id'] == df_ss['_id']\n",
    "print(check.unique())"
   ]
  },
  {
   "cell_type": "code",
   "execution_count": 44,
   "metadata": {},
   "outputs": [],
   "source": [
    "# создаем функцию для предобработке данных\n",
    "\n",
    "def month_to_digit(m):\n",
    "    months_dict = {'mar':0, 'apr':1, 'may':2, 'jun':3, 'jul':4, 'aug':5, 'sep':6, 'oct':7, 'nov':8, 'dec':9}\n",
    "    return months_dict[m]\n",
    "\n",
    "def day_to_digit(d):\n",
    "    days_dict = {'mon':0, 'tue':1, 'wed':2, 'thu':3, 'fri':4}\n",
    "    return days_dict[d]\n",
    "\n",
    "def prepare_data(df):\n",
    "    \n",
    "    df = df.drop(['_id'], axis=1) # Удаляем индивидуальный ID клиента\n",
    "\n",
    "    df = df.drop(['target'], axis=1) # Удаляем индивидуальный ID клиента\n",
    "    \n",
    "    df['month'] = df['month'].map(lambda x: month_to_digit(x)) # Конвертируем названия месяцев в числа\n",
    "    \n",
    "    df['day_of_week'] = df['day_of_week'].map(lambda x: day_to_digit(x)) # Конвертируем дни недели в числа\n",
    "    \n",
    "    category_columns = [\n",
    "        'job',\n",
    "        'marital',\n",
    "        'education',\n",
    "        'default',\n",
    "        'housing',\n",
    "        'loan',\n",
    "        'contact',\n",
    "        'poutcome'\n",
    "    ]\n",
    "    \n",
    "    df = pd.get_dummies(df, prefix=category_columns)\n",
    "    \n",
    "    \n",
    "    \n",
    "    return df\n",
    "    \n",
    "    "
   ]
  },
  {
   "cell_type": "code",
   "execution_count": 45,
   "metadata": {},
   "outputs": [],
   "source": [
    "X = prepare_data(df_train)\n",
    "y = df_train['target'].values"
   ]
  },
  {
   "cell_type": "code",
   "execution_count": 46,
   "metadata": {},
   "outputs": [],
   "source": [
    "# Разделяем датасет на тренировочную и тестовую выборки\n",
    "from sklearn.model_selection import train_test_split\n",
    "X_train, X_test, y_train, y_test = train_test_split(X, y, test_size = 0.2, random_state = 0)\n",
    "\n",
    "# Делаем Scaling\n",
    "from sklearn.preprocessing import StandardScaler\n",
    "sc_X = StandardScaler()\n",
    "X_train = sc_X.fit_transform(X_train)\n",
    "X_test = sc_X.transform(X_test)"
   ]
  },
  {
   "cell_type": "code",
   "execution_count": 47,
   "metadata": {},
   "outputs": [],
   "source": [
    "# Импортируем модели классификации\n",
    "\n",
    "from sklearn.neighbors import KNeighborsClassifier\n",
    "from sklearn.tree import DecisionTreeClassifier\n",
    "from sklearn.linear_model import LogisticRegression"
   ]
  },
  {
   "cell_type": "code",
   "execution_count": null,
   "metadata": {},
   "outputs": [],
   "source": [
    "knn = KNeighborsClassifier(n_neighbors = 5, metric = 'minkowski', p = 2)\n",
    "knn.fit(X_train, y_train)\n",
    "knn_predict = knn.predict(X_test)\n",
    "knn_predict_proba = knn.predict_proba(X_test)\n",
    "\n",
    "dtc = DecisionTreeClassifier()\n",
    "dtc.fit(X_train, y_train)\n",
    "dtc_predict = dtc.predict(X_test)\n",
    "dtc_predict_proba = dtc.predict_proba(X_test)\n",
    "\n",
    "lr = LogisticRegression()\n",
    "lr.fit(X_train, y_train)\n",
    "lr_predict = lr.predict(X_test)\n",
    "lr_predict_proba = lr.predict_proba(X_test)"
   ]
  },
  {
   "cell_type": "code",
   "execution_count": null,
   "metadata": {},
   "outputs": [],
   "source": [
    "from sklearn.metrics import accuracy_score, precision_score, recall_score\n",
    "\n",
    "## Your Code Here\n",
    "print('KNeighborsClassifier metrics')\n",
    "print('accuracy', accuracy_score(y_test, knn_predict))\n",
    "print('precision', precision_score(y_test, knn_predict))\n",
    "print('recall', recall_score(y_test, knn_predict))\n",
    "print('')\n",
    "\n",
    "print('DecisionTreeClassifier metrics')\n",
    "print('accuracy', accuracy_score(y_test, dtc_predict))\n",
    "print('precision', precision_score(y_test, dtc_predict))\n",
    "print('recall', recall_score(y_test, dtc_predict))\n",
    "print('')\n",
    "\n",
    "print('LogisticRegression metrics')\n",
    "print('accuracy', accuracy_score(y_test, lr_predict))\n",
    "print('precision', precision_score(y_test, lr_predict))\n",
    "print('recall', recall_score(y_test, lr_predict))\n",
    "print('')"
   ]
  },
  {
   "cell_type": "code",
   "execution_count": null,
   "metadata": {},
   "outputs": [],
   "source": [
    "%matplotlib inline\n",
    "from matplotlib import pyplot as plt\n",
    "from sklearn.metrics import roc_auc_score, roc_curve\n",
    "\n",
    "knn_fpr, knn_tpr, knn_thresholds = roc_curve(y_test, knn_predict_proba[:,1])\n",
    "dtc_fpr, dtc_tpr, dtc_thresholds = roc_curve(y_test, dtc_predict_proba[:,1])\n",
    "lr_fpr, lr_tpr, lr_thresholds = roc_curve(y_test, lr_predict_proba[:,1])\n",
    "plt.figure(figsize=(10, 10))\n",
    "\n",
    "plt.plot(knn_fpr, knn_tpr, label='knn')\n",
    "#plt.legend('dtc')\n",
    "\n",
    "plt.plot(dtc_fpr, dtc_tpr, label='dtc')\n",
    "#plt.legend('rfc')\n",
    "\n",
    "plt.plot(lr_fpr, lr_tpr, label='lr')\n",
    "#plt.legend('lr')\n",
    "\n",
    "plt.legend(bbox_to_anchor=(1.05, 1), loc=2, borderaxespad=0.)\n",
    "\n",
    "plt.plot([0, 1], [0, 1])\n",
    "plt.ylabel('tpr')\n",
    "plt.xlabel('fpr')\n",
    "plt.grid(True)\n",
    "plt.title('ROC curve')\n",
    "plt.xlim((-0.01, 1.01))\n",
    "plt.ylim((-0.01, 1.01))\n",
    "\n",
    "plt.show(y_test.shape)\n",
    "plt.show(dtc_predict_proba.shape)\n",
    "\n",
    "knn_roc_auc_score = roc_auc_score(y_test, knn_predict)\n",
    "print('KNeighborsClassifier roc_auc: {}'.format(knn_roc_auc_score))\n",
    "\n",
    "dtc_roc_auc_score = roc_auc_score(y_test, dtc_predict)\n",
    "print('DecisionTreeClassifier roc_auc: {}'.format(dtc_roc_auc_score))\n",
    "\n",
    "lr_roc_auc_score = roc_auc_score(y_test, lr_predict)\n",
    "print('LogisticRegression roc_auc: {}'.format(lr_roc_auc_score))\n",
    "print('')"
   ]
  },
  {
   "cell_type": "code",
   "execution_count": null,
   "metadata": {},
   "outputs": [],
   "source": []
  }
 ],
 "metadata": {
  "kernelspec": {
   "display_name": "Python 3",
   "language": "python",
   "name": "python3"
  },
  "language_info": {
   "codemirror_mode": {
    "name": "ipython",
    "version": 3
   },
   "file_extension": ".py",
   "mimetype": "text/x-python",
   "name": "python",
   "nbconvert_exporter": "python",
   "pygments_lexer": "ipython3",
   "version": "3.6.5"
  }
 },
 "nbformat": 4,
 "nbformat_minor": 2
}
