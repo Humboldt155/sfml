{
 "cells": [
  {
   "cell_type": "markdown",
   "metadata": {},
   "source": [
    "# SkillFactory\n",
    "## Введение в ML, введение в sklearn"
   ]
  },
  {
   "cell_type": "markdown",
   "metadata": {},
   "source": [
    "В этом задании мы с вами рассмотрим данные с конкурса [Задача предсказания отклика клиентов ОТП Банка](http://www.machinelearning.ru/wiki/index.php?title=%D0%97%D0%B0%D0%B4%D0%B0%D1%87%D0%B0_%D0%BF%D1%80%D0%B5%D0%B4%D1%81%D0%BA%D0%B0%D0%B7%D0%B0%D0%BD%D0%B8%D1%8F_%D0%BE%D1%82%D0%BA%D0%BB%D0%B8%D0%BA%D0%B0_%D0%BA%D0%BB%D0%B8%D0%B5%D0%BD%D1%82%D0%BE%D0%B2_%D0%9E%D0%A2%D0%9F_%D0%91%D0%B0%D0%BD%D0%BA%D0%B0_%28%D0%BA%D0%BE%D0%BD%D0%BA%D1%83%D1%80%D1%81%29)"
   ]
  },
  {
   "cell_type": "code",
   "execution_count": 28,
   "metadata": {},
   "outputs": [],
   "source": [
    "import pandas as pd\n",
    "import numpy as np\n",
    "import matplotlib.pyplot as plt\n",
    "\n",
    "%matplotlib inline\n",
    "\n",
    "plt.style.use('ggplot')\n",
    "plt.rcParams['figure.figsize'] = (12,5)"
   ]
  },
  {
   "cell_type": "code",
   "execution_count": 29,
   "metadata": {},
   "outputs": [],
   "source": [
    "df_train = pd.read_csv('data/otp_train.csv', sep='\\t', encoding='utf8')"
   ]
  },
  {
   "cell_type": "code",
   "execution_count": 30,
   "metadata": {},
   "outputs": [
    {
     "data": {
      "text/plain": [
       "(15223, 52)"
      ]
     },
     "execution_count": 30,
     "metadata": {},
     "output_type": "execute_result"
    }
   ],
   "source": [
    "df_train.shape"
   ]
  },
  {
   "cell_type": "code",
   "execution_count": 31,
   "metadata": {},
   "outputs": [],
   "source": [
    "df_test = pd.read_csv('data/otp_test.csv', sep='\\t', encoding='utf8')"
   ]
  },
  {
   "cell_type": "code",
   "execution_count": 32,
   "metadata": {},
   "outputs": [
    {
     "data": {
      "text/plain": [
       "(14910, 52)"
      ]
     },
     "execution_count": 32,
     "metadata": {},
     "output_type": "execute_result"
    }
   ],
   "source": [
    "df_test.shape"
   ]
  },
  {
   "cell_type": "code",
   "execution_count": 34,
   "metadata": {},
   "outputs": [],
   "source": [
    "df_train.loc[:, 'sample'] = 'train'\n",
    "df_test.loc[:, 'sample'] = 'test'"
   ]
  },
  {
   "cell_type": "code",
   "execution_count": 35,
   "metadata": {},
   "outputs": [],
   "source": [
    "df = df_test.append(df_train).reset_index(drop=True)"
   ]
  },
  {
   "cell_type": "code",
   "execution_count": 36,
   "metadata": {},
   "outputs": [],
   "source": [
    "def preproc_data(df_input):\n",
    "    df_output = df_input.copy()\n",
    "    \n",
    "    # Перечень колонок, которые нужно удалить.\n",
    "    # Колонки с адресами вероятнее всего дублируются, \n",
    "    # поэтому оставим только FACT_ADDRESS_PROVINCE, поскольку фактический адрес\n",
    "    # более важен, чем адрес регистрации\n",
    "    # Удаляем столбец с регионами, так как субъекты входят в регионы\n",
    "    remove_cols = ['AGREEMENT_RK',\n",
    "                   'REG_ADDRESS_PROVINCE',\n",
    "                   'POSTAL_ADDRESS_PROVINCE',\n",
    "                   'TP_PROVINCE',\n",
    "                   'REGION_NM']\n",
    "    df_output = df_output.drop(remove_cols, axis=1)\n",
    "    \n",
    "    \n",
    "    # Перечень столбцов, значения которых нужно конвертировать из str во float\n",
    "    numbers_cols = ['PERSONAL_INCOME',\n",
    "                    'CREDIT',\n",
    "                    'FST_PAYMENT',\n",
    "                    'LOAN_AVG_DLQ_AMT',\n",
    "                    'LOAN_MAX_DLQ_AMT']\n",
    "    for nc in numbers_cols:\n",
    "        df_output[nc] = df_output[nc].map(lambda x: x.replace(',', '.')).astype('float')\n",
    "        \n",
    "    # Дополнительный one-hot-vector для учета людей, не имеющих работы\n",
    "    df_output['НЕ РАБОТАЕТ'] = df_output['GEN_TITLE'].isna().replace(False, 0).replace(True, 1)\n",
    "    \n",
    "    # Переводим категории FAMILY_INCOME в числа от 0 до 4 с помощью метода replace\n",
    "    di = {'до 5000 руб.': 0, \n",
    "          'от 5000 до 10000 руб.': 1,\n",
    "          'от 10000 до 20000 руб.': 2,\n",
    "          'от 20000 до 50000 руб.': 3,\n",
    "          'свыше 50000 руб.': 4\n",
    "           }\n",
    "    df_output['FAMILY_INCOME'] = df_output['FAMILY_INCOME'].replace(di)\n",
    "    \n",
    "    # Заменяем пропуски на нули в колонке PREVIOUS_CARD_NUM_UTILIZED\n",
    "    df_output['PREVIOUS_CARD_NUM_UTILIZED'] = df_output['PREVIOUS_CARD_NUM_UTILIZED'].fillna(0)\n",
    "    \n",
    "    # Заменяем пропуски в поле WORK_TIME на Медиану\n",
    "    MEDIAN = df_output['WORK_TIME'].dropna().median()\n",
    "    df_output['WORK_TIME'] = df_output['WORK_TIME'].map(lambda x: MEDIAN if np.isnan(x) else x)\n",
    "    \n",
    "    # Перечень категориальных признаков, \n",
    "    # и разделяем one-hot-vectors с помощью метода get_dummies. По умолчанию get_dummies\n",
    "    # проставит значения 0 по тем строкам, в которых пропущены значения\n",
    "    categorize_cols = ['EDUCATION',\n",
    "                       'MARITAL_STATUS',\n",
    "                       'GEN_INDUSTRY',\n",
    "                       'GEN_TITLE',\n",
    "                       'ORG_TP_STATE',\n",
    "                       'ORG_TP_FCAPITAL',\n",
    "                       'JOB_DIR',\n",
    "                       'FACT_ADDRESS_PROVINCE']\n",
    "    # конвертируем временно 'sample' в числа, иначе метод выдает ошибку\n",
    "    df_output['sample'] = df_output['sample'].map(lambda x: 1 if x == 'train' else 0)\n",
    "    df_output = pd.get_dummies(df_output)\n",
    "    df_output['sample'] = df_output['sample'].map(lambda x: 'train' if x == 1 else 'test')\n",
    "    \n",
    "    return df_output"
   ]
  },
  {
   "cell_type": "code",
   "execution_count": 37,
   "metadata": {},
   "outputs": [],
   "source": [
    "df_preproc = df.pipe(preproc_data)\n",
    "\n",
    "df_train_preproc = df_preproc.query('sample == \"train\"').drop(['sample'], axis=1)\n",
    "df_test_preproc = df_preproc.query('sample == \"test\"').drop(['sample'], axis=1)"
   ]
  },
  {
   "cell_type": "markdown",
   "metadata": {},
   "source": [
    "#### Задание 4. Отделите целевую переменную и остальные признаки\n",
    "\n",
    "Должно получится:\n",
    "* 2 матрицы: X и X_test\n",
    "* 2 вектора: y и y_test"
   ]
  },
  {
   "cell_type": "code",
   "execution_count": 38,
   "metadata": {},
   "outputs": [],
   "source": [
    "X      = df_train_preproc.drop(['TARGET'], axis=1)\n",
    "X_test = df_test_preproc.drop(['TARGET'], axis=1)\n",
    "\n",
    "y      = df_train_preproc['TARGET']\n",
    "y_test = df_test_preproc['TARGET']"
   ]
  },
  {
   "cell_type": "markdown",
   "metadata": {},
   "source": [
    "#### Задание 5. Обучение и оценка качества разных моделей"
   ]
  },
  {
   "cell_type": "code",
   "execution_count": 39,
   "metadata": {},
   "outputs": [],
   "source": [
    "from sklearn.model_selection import train_test_split\n",
    "# test_size=0.3, random_state=42\n",
    "\n",
    "# from sklearn.preprocessing import StandardScaler\n",
    "# scaler = StandardScaler()\n",
    "# X = scaler.fit_transform(X)\n",
    "\n",
    "## Your Code Here\n",
    "X_train, X_valid, y_train, y_valid = train_test_split(X, y, test_size=0.3, random_state=42)\n",
    "\n",
    "# Приведем параметры к единому масштабу\n"
   ]
  },
  {
   "cell_type": "code",
   "execution_count": 40,
   "metadata": {},
   "outputs": [
    {
     "name": "stdout",
     "output_type": "stream",
     "text": [
      "194\n"
     ]
    }
   ],
   "source": [
    "print(X_train.shape[1])"
   ]
  },
  {
   "cell_type": "code",
   "execution_count": 41,
   "metadata": {},
   "outputs": [],
   "source": [
    "def try_params(hidden_size, learning_rate, num_epoch, weight_decay):\n",
    "    \n",
    "    X      = df_train_preproc.drop(['TARGET'], axis=1)\n",
    "    X_test = df_test_preproc.drop(['TARGET'], axis=1)\n",
    "\n",
    "    y      = df_train_preproc['TARGET']\n",
    "    y_test = df_test_preproc['TARGET']\n",
    "    \n",
    "    X_train, X_valid, y_train, y_valid = train_test_split(X, y, test_size=0.3, random_state=42)\n",
    "    from sklearn.preprocessing import StandardScaler\n",
    "    ss = StandardScaler()\n",
    "    X_train = ss.fit_transform(X_train)\n",
    "    \n",
    "    \n",
    "    X_valid = ss.transform(X_valid)\n",
    "\n",
    "    import torch\n",
    "    import torch.nn as nn\n",
    "    import torch.nn.functional as F\n",
    "\n",
    "    #hyperparameters\n",
    "    hidden_size = 100\n",
    "    learning_rate = 0.01\n",
    "    num_epoch = 500\n",
    "\n",
    "\n",
    "    class IrisNN(nn.Module):\n",
    "        def __init__(self):\n",
    "            super(IrisNN, self).__init__()\n",
    "            self.fc1 = nn.Linear(X_train.shape[1], hidden_size)\n",
    "            self.fc2 = nn.Linear(hidden_size, hidden_size)\n",
    "            self.fc3 = nn.Linear(hidden_size, 2)\n",
    "\n",
    "        def forward(self, x):\n",
    "            x = F.relu(self.fc1(x))\n",
    "            x = F.relu(self.fc2(x))\n",
    "            x = self.fc3(x)\n",
    "            return x\n",
    "\n",
    "    net = IrisNN()\n",
    "\n",
    "    #choose optimizer and loss function\n",
    "    criterion = nn.CrossEntropyLoss()\n",
    "    #optimizer = torch.optim.SGD(net.parameters(), lr=learning_rate)\n",
    "    optimizer = torch.optim.Adam(net.parameters(), lr=learning_rate, betas=(0.99, 0.999), eps=1e-08, weight_decay=weight_decay, amsgrad=False)\n",
    "\n",
    "    loss_value = 0\n",
    "\n",
    "    accuracy = 0\n",
    "\n",
    "    for epoch in range(num_epoch):\n",
    "        X = torch.FloatTensor(X_train)\n",
    "\n",
    "        y = torch.LongTensor(y_train)\n",
    "\n",
    "        optimizer.zero_grad()\n",
    "\n",
    "        out = net(X)\n",
    "\n",
    "        loss = criterion(out, y)\n",
    "\n",
    "        loss.backward()\n",
    "\n",
    "        optimizer.step()\n",
    "\n",
    "        xtest = torch.FloatTensor(X_valid)\n",
    "\n",
    "        ytest = torch.LongTensor(y_valid)\n",
    "\n",
    "        test_out = net(xtest)\n",
    "        _, predicted = torch.max(test_out.data, 1)\n",
    "\n",
    "        correct = (predicted == ytest).sum()\n",
    "\n",
    "        accuracy = 100 * float(correct) / len(ytest)\n",
    "\n",
    "        loss_value = loss.item()\n",
    "\n",
    "    params = ('Epochs: {}, LR: {}, Hidden_size: {}, weight_decay: {} Loss: {}, test {}'.format(num_epoch, learning_rate, hidden_size, weight_decay, loss_value, accuracy))\n",
    "    return accuracy, params"
   ]
  },
  {
   "cell_type": "code",
   "execution_count": null,
   "metadata": {},
   "outputs": [],
   "source": [
    "accuracy_max = 0\n",
    "\n",
    "for i in range(10):\n",
    "    accuracy, params = try_params(hidden_size=100, learning_rate=0.001, num_epoch=100, weight_decay=1e-4)\n",
    "    if accuracy > accuracy_max:\n",
    "        accuracy_max = accuracy\n",
    "        print(params)"
   ]
  },
  {
   "cell_type": "code",
   "execution_count": null,
   "metadata": {},
   "outputs": [],
   "source": []
  }
 ],
 "metadata": {
  "anaconda-cloud": {},
  "kernelspec": {
   "display_name": "Python 3",
   "language": "python",
   "name": "python3"
  },
  "language_info": {
   "codemirror_mode": {
    "name": "ipython",
    "version": 3
   },
   "file_extension": ".py",
   "mimetype": "text/x-python",
   "name": "python",
   "nbconvert_exporter": "python",
   "pygments_lexer": "ipython3",
   "version": "3.6.5"
  },
  "toc": {
   "colors": {
    "hover_highlight": "#DAA520",
    "navigate_num": "#000000",
    "navigate_text": "#333333",
    "running_highlight": "#FF0000",
    "selected_highlight": "#FFD700",
    "sidebar_border": "#EEEEEE",
    "wrapper_background": "#FFFFFF"
   },
   "moveMenuLeft": true,
   "nav_menu": {
    "height": "31px",
    "width": "253px"
   },
   "navigate_menu": true,
   "number_sections": false,
   "sideBar": true,
   "threshold": 4,
   "toc_cell": false,
   "toc_section_display": "block",
   "toc_window_display": false,
   "widenNotebook": false
  }
 },
 "nbformat": 4,
 "nbformat_minor": 2
}
